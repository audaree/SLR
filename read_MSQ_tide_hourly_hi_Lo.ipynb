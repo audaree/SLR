{
 "cells": [
  {
   "cell_type": "markdown",
   "metadata": {},
   "source": [
    "## Select a MSQ Tide file"
   ]
  },
  {
   "cell_type": "code",
   "execution_count": 1,
   "metadata": {
    "scrolled": false
   },
   "outputs": [
    {
     "data": {
      "text/html": [
       "<style>.container { width:100% !important; }</style>"
      ]
     },
     "metadata": {},
     "output_type": "display_data"
    },
    {
     "name": "stdout",
     "output_type": "stream",
     "text": [
      "48 MSQ tide files found\n"
     ]
    },
    {
     "data": {
      "text/plain": [
       "\"\""
      ]
     },
     "execution_count": 1,
     "metadata": {},
     "output_type": "execute_result"
    },
    {
     "name": "stdout",
     "output_type": "stream",
     "text": [
      "Selected G:\\SLR\\Daily_Hi_Lo\\R060008A  HAY POINT STORM SURGE_01.01.10-31.12.20_10min_daily_hi_lo_mean.CSV\n",
      "error during Tk callback: \n"
     ]
    },
    {
     "name": "stderr",
     "output_type": "stream",
     "text": [
      "\u001b[91m\u001b[1mERROR: \u001b[22m\u001b[39mArgumentError: column name \"Column2\" not found in the data frame; existing most similar names are: \"Column1\"\n",
      "Stacktrace:\n",
      " [1] \u001b[0m\u001b[1mlookupname\u001b[22m\n",
      "\u001b[90m   @\u001b[39m \u001b[90mC:\\Users\\Jim\\.julia\\packages\\DataFrames\\58MUJ\\src\\other\\\u001b[39m\u001b[90m\u001b[4mindex.jl:416\u001b[24m\u001b[39m\u001b[90m [inlined]\u001b[39m\n",
      " [2] \u001b[0m\u001b[1mgetindex\u001b[22m\n",
      "\u001b[90m   @\u001b[39m \u001b[90mC:\\Users\\Jim\\.julia\\packages\\DataFrames\\58MUJ\\src\\other\\\u001b[39m\u001b[90m\u001b[4mindex.jl:422\u001b[24m\u001b[39m\u001b[90m [inlined]\u001b[39m\n",
      " [3] \u001b[0m\u001b[1mgetindex\u001b[22m\u001b[0m\u001b[1m(\u001b[22m\u001b[90mdf\u001b[39m::\u001b[0mDataFrame, \u001b[90m#unused#\u001b[39m::\u001b[0mtypeof(!), \u001b[90mcol_ind\u001b[39m::\u001b[0mSymbol\u001b[0m\u001b[1m)\u001b[22m\n",
      "\u001b[90m   @\u001b[39m \u001b[35mDataFrames\u001b[39m \u001b[90mC:\\Users\\Jim\\.julia\\packages\\DataFrames\\58MUJ\\src\\dataframe\\\u001b[39m\u001b[90m\u001b[4mdataframe.jl:557\u001b[24m\u001b[39m\n",
      " [4] \u001b[0m\u001b[1mgetproperty\u001b[22m\u001b[0m\u001b[1m(\u001b[22m\u001b[90mdf\u001b[39m::\u001b[0mDataFrame, \u001b[90mcol_ind\u001b[39m::\u001b[0mSymbol\u001b[0m\u001b[1m)\u001b[22m\n",
      "\u001b[90m   @\u001b[39m \u001b[35mDataFrames\u001b[39m \u001b[90mC:\\Users\\Jim\\.julia\\packages\\DataFrames\\58MUJ\\src\\abstractdataframe\\\u001b[39m\u001b[90m\u001b[4mabstractdataframe.jl:431\u001b[24m\u001b[39m\n",
      " [5] \u001b[0m\u001b[1m(::var\"#7#8\")\u001b[22m\u001b[0m\u001b[1m(\u001b[22m\u001b[90mpath\u001b[39m::\u001b[0mString\u001b[0m\u001b[1m)\u001b[22m\n",
      "\u001b[90m   @\u001b[39m \u001b[36mMain\u001b[39m \u001b[90m.\\\u001b[39m\u001b[90m\u001b[4mIn[1]:67\u001b[24m\u001b[39m\n",
      " [6] \u001b[0m\u001b[1mjl_tcl_callback\u001b[22m\u001b[0m\u001b[1m(\u001b[22m\u001b[90mfptr\u001b[39m::\u001b[0mPtr\u001b[90m{Nothing}\u001b[39m, \u001b[90minterp\u001b[39m::\u001b[0mPtr\u001b[90m{Nothing}\u001b[39m, \u001b[90margc\u001b[39m::\u001b[0mInt32, \u001b[90margv\u001b[39m::\u001b[0mPtr\u001b[90m{Ptr{UInt8}}\u001b[39m\u001b[0m\u001b[1m)\u001b[22m\n",
      "\u001b[90m   @\u001b[39m \u001b[32mTk\u001b[39m \u001b[90mC:\\Users\\Jim\\.julia\\packages\\Tk\\c8ZUf\\src\\\u001b[39m\u001b[90m\u001b[4mtkwidget.jl:142\u001b[24m\u001b[39m\n",
      " [7] \u001b[0m\u001b[1mtcl_doevent\u001b[22m\u001b[90m (repeats 2 times)\u001b[39m\n",
      "\u001b[90m   @\u001b[39m \u001b[90mC:\\Users\\Jim\\.julia\\packages\\Tk\\c8ZUf\\src\\\u001b[39m\u001b[90m\u001b[4mtkwidget.jl:20\u001b[24m\u001b[39m\u001b[90m [inlined]\u001b[39m\n",
      " [8] \u001b[0m\u001b[1mmacro expansion\u001b[22m\n",
      "\u001b[90m   @\u001b[39m \u001b[90m.\\\u001b[39m\u001b[90m\u001b[4masyncevent.jl:281\u001b[24m\u001b[39m\u001b[90m [inlined]\u001b[39m\n",
      " [9] \u001b[0m\u001b[1m(::Base.var\"#702#703\"{typeof(tcl_doevent), Timer})\u001b[22m\u001b[0m\u001b[1m(\u001b[22m\u001b[0m\u001b[1m)\u001b[22m\n",
      "\u001b[90m   @\u001b[39m \u001b[90mBase\u001b[39m \u001b[90m.\\\u001b[39m\u001b[90m\u001b[4mtask.jl:134\u001b[24m\u001b[39m\n"
     ]
    }
   ],
   "source": [
    "using CSV\n",
    "using Dates, DataFrames, DSP\n",
    "using LaTeXStrings\n",
    "using NativeFileDialog\n",
    "using Plots, Printf\n",
    "using Statistics\n",
    "using Tk\n",
    "\n",
    "################################################\n",
    "################################################\n",
    "################################################\n",
    "##           START OF MAIN PROGRAM\n",
    "################################################\n",
    "################################################\n",
    "################################################\n",
    "\n",
    "# Widen screen for better viewing\n",
    "display(\"text/html\", \"<style>.container { width:100% !important; }</style>\")\n",
    "\n",
    "# Pick directory containing MSQ .csv files\n",
    "msq_directory = pick_folder()\n",
    "\n",
    "# build list of all msq files in selected directory\n",
    "msq_files = filter(x->occursin(\"_10min\",x), readdir(msq_directory));\n",
    "##msq_files = filter(x->occursin(\"_hourly\",x), readdir(msq_directory));\n",
    "msq_files = msq_files[findall(x->endswith(uppercase(x), \".CSV\"), msq_files)]\n",
    "\n",
    "# Check whether any msq files exist in selected directory. If not, EXIT!\n",
    "if length(msq_files) == 0\n",
    "    println(\"No msq files found in \"*msq_directory)\n",
    "    exit;\n",
    "else\n",
    "    println(string(length(msq_files)) * \" MSQ tide files found\")\n",
    "end\n",
    "\n",
    "w = Toplevel(\"Select Date\", 235, 600)\n",
    "tcl(\"pack\", \"propagate\", w, false)\n",
    "f = Frame(w)\n",
    "pack(f, expand=true, fill=\"both\")\n",
    "\n",
    "f1 = Frame(f)\n",
    "lb = Treeview(f1, msq_files)\n",
    "scrollbars_add(f1, lb)\n",
    "pack(f1,  expand=true, fill=\"both\")\n",
    "\n",
    "tcl(\"ttk::style\", \"configure\", \"TButton\", foreground=\"blue\", font=\"arial 16 bold\")\n",
    "b = Button(f, \"Ok\")\n",
    "pack(b)\n",
    "\n",
    "bind(b, \"command\") do path\n",
    "    \n",
    "    global file_choice = get_value(lb);\n",
    "    \n",
    "    # Select a msq file\n",
    "    global infil = msq_directory * \"\\\\\" * file_choice[1]\n",
    "    \n",
    "    global title = file_choice[1]\n",
    "    \n",
    "    println(\"Selected \",infil)\n",
    "\n",
    "###    global msq_df = DataFrame(CSV.File(infil; header=false, skipto=42, delim=\", \", ignorerepeated=true));\n",
    "###    msq_df.Date = DateTime.(DateTime.(strip.(msq_df.Column1),\"dd/mm/yyyy HH:MM\"))      \n",
    "###    rename!(msq_df,[:Column2,:Column3] .=> [:Ind, :Reading]);\n",
    "###    select!(msq_df, [:Date, :Ind, :Reading], Not([:Column1]));\n",
    "    \n",
    "    global msq_df = DataFrame(CSV.File(infil; header=false, skipto=42, delim=\", \", ignorerepeated=true))\n",
    "    msq_df.Column1 = DateTime.(msq_df.Column1.*chop.(msq_df.Column2,tail=1), dateformat\"dd/mm/yyyy HH:MM\")\n",
    "    rename!(msq_df,[:Column1, :Column3, :Column4] .=> [:Date, :Ind, :Reading]);\n",
    "    select!(msq_df, [:Date, :Ind, :Reading], Not([:Column2]));\n",
    "\n",
    "    msq_df.Reading = parse.(Float64,msq_df.Reading)\n",
    "    \n",
    "    # Convert -9999 values to Nans for plotting\n",
    "    msq_df.Reading[findall(abs.(msq_df.Reading).>9)] .= NaN\n",
    "    \n",
    "    msq_df.time_diff = [missing; diff(msq_df.Date)]\n",
    "    \n",
    "    global first_date = first(msq_df.Date)\n",
    "    global last_date = last(msq_df.Date)\n",
    "    \n",
    "    year_diff = (Year(last_date) |> Dates.value) - (Year(first_date) |> Dates.value)\n",
    "    \n",
    "    # set X-axis scale based on amount of data\n",
    "    if (year_diff == 0)\n",
    "        mth_val = 1\n",
    "    elseif (year_diff == 1)\n",
    "        mth_val = 2\n",
    "    elseif (year_diff == 2)\n",
    "        mth_val = 3\n",
    "    else\n",
    "        mth_val = 6\n",
    "    end\n",
    "    \n",
    "    # display plots to screen\n",
    "    tm_tick = range(first_date,last_date,step=Year(2))\n",
    "    ticks = Dates.format.(tm_tick,\"YY\")\n",
    "    \n",
    "    tides_plot = plot(msq_df.Date,msq_df.Reading, size = (1400, 600), label=\"\",\n",
    "##        marker = :circle, markersize = 1,\n",
    "        xlims=(first_date,last_date), xticks=(tm_tick,ticks), xtickfontsize=7,ytickfontsize=8, \n",
    "        framestyle = :box, legend=:bottomleft, title=title, \n",
    "        margin = 1Plots.mm, grid=true, gridlinewidth=0.5, gridstyle=:dot, gridalpha=1)\n",
    "    \n",
    "    display(tides_plot)\n",
    "    \n",
    "    start_date = first_date\n",
    "    println(title,\"\\n\")\n",
    "    println(\"Mth Year  Gaps     Good     Minimum     Maximum     Mean      Range    St Devn\")\n",
    "\n",
    "    total_gaps = 0\n",
    "    total_good = 0\n",
    "\n",
    "    yearly_mean = 0\n",
    "    no_of_months = 0\n",
    "    \n",
    "    global yearly_averages_df = DataFrame([[],[]], [\"Year\", \"Mean_WL\"])\n",
    "    \n",
    "    global monthly_averages_df = DataFrame(Any[Int[], Int[], Int[], Int[], Float64[], Float64[], Float64[], Float64[], Float64[]], [\"Month\", \"Year\", \"Gaps\", \"Good\", \"Minimum\", \"Maximum\", \"Mean\", \"Range\", \"St Devn\"])\n",
    "    \n",
    "    while start_date <= last_date\n",
    "        \n",
    "        # select a month of data and store month of data in temporary df\n",
    "        end_date = start_date + Dates.Month(1)\n",
    "        month_df = msq_df[findall(start_date .<= msq_df.Date .< end_date),:]\n",
    "\n",
    "        # determine total number of 10-minute records possible for the month\n",
    "        total_possible = trunc(Int,(end_date - start_date) / Millisecond(1) * (1 / 3.6e+6))\n",
    "        total_actual = nrow(month_df)\n",
    "        \n",
    "        # determine the number of gaps\n",
    "        gaps = total_possible - total_actual\n",
    "\n",
    "        # get totals of gaps and good data\n",
    "        total_gaps = total_gaps + gaps\n",
    "        total_good = total_good + total_actual\n",
    "\n",
    "        # get monthly values\n",
    "        month = Month(start_date) |> Dates.value\n",
    "        year = Year(start_date) |> Dates.value\n",
    "        \n",
    "        if nrow(month_df) > 1\n",
    "            monthly_min = minimum(month_df.Reading)\n",
    "            monthly_max = maximum(month_df.Reading)\n",
    "            monthly_mean = mean(month_df.Reading)\n",
    "            monthly_std = std(month_df.Reading)\n",
    "            monthly_range = monthly_max - monthly_min\n",
    "\n",
    "        else\n",
    "            monthly_min = 0\n",
    "            monthly_max = 0\n",
    "            monthly_mean = 0\n",
    "            monthly_std = 0\n",
    "            monthly_range = 0\n",
    "        end\n",
    "\n",
    "        @printf(\"%3i %4i %5i %8i %10.3f %11.3f %10.3f %9.3f %9.3f\\n\", month, year, gaps, total_actual, monthly_min, monthly_max, monthly_mean, monthly_range, monthly_std)\n",
    "        push!(monthly_averages_df,[month, year, gaps, total_actual, monthly_min, monthly_max, monthly_mean, monthly_range, monthly_std])\n",
    "        \n",
    "        # add monthly mean to yearly total, and increment number of months used\n",
    "        yearly_mean = yearly_mean + monthly_mean\n",
    "        no_of_months = no_of_months + 1\n",
    "\n",
    "        # print annual averages for current year of data\n",
    "        if (Year(end_date) |> Dates.value) != (Year(start_date) |> Dates.value)\n",
    "            \n",
    "            year_valu = Year(start_date) |> Dates.value\n",
    "            year_total = mean(msq_df[findall(Year.(msq_df.Date) .|> Dates.value .== year),:].Reading)\n",
    "            # add yearly average to df\n",
    "            push!(yearly_averages_df,[year_valu,year_total])\n",
    "            \n",
    "            println(\"=============================================================================\")\n",
    "            @printf(\"%s %4i %s %5.3f\\n\",\"                         Yearly average for\",(year_valu),\"= \", year_total)\n",
    "            @printf(\"%s%5.3f%s\\n\",\"                           From Monthly Averages = (\",yearly_mean/no_of_months,\")\")\n",
    "            println(\"=============================================================================\\n\")\n",
    "            \n",
    "            # reset counters\n",
    "            yearly_mean = 0\n",
    "            no_of_months = 0\n",
    "        end\n",
    "\n",
    "        # move to start of next month\n",
    "        start_date = end_date\n",
    "\n",
    "    end\n",
    "\n",
    "    println(\"Total number of Gaps = \",total_gaps,\"; Total number of Good values = \", total_good,\"\\n\")\n",
    "    println(title)\n",
    "    println(\"    Year       Mean\")\n",
    "    for i in 1:nrow(yearly_averages_df)\n",
    "        @printf(\"%8i %10.3f\\n\",yearly_averages_df.Year[i],yearly_averages_df.Mean_WL[i])\n",
    "    end\n",
    "    flush(stdout)\n",
    "    \n",
    "    CSV.write(\".\\\\\" * splitext(last(splitdir(infil)))[1] * \"_monthly_averages.CSV\",monthly_averages_df)\n",
    "end"
   ]
  },
  {
   "cell_type": "code",
   "execution_count": null,
   "metadata": {},
   "outputs": [],
   "source": [
    "msq_df = DataFrame(CSV.File(infil; header=false, skipto=42, delim=\", \", ignorerepeated=true))\n",
    "msq_df.Column1 = DateTime.(msq_df.Column1.*chop.(msq_df.Column2,tail=1), dateformat\"dd/mm/yyyy HH:MM\")\n",
    "rename!(msq_df,[:Column1, :Column3, :Column4] .=> [:Date, :Ind, :Reading]);\n",
    "select!(msq_df, [:Date, :Ind, :Reading], Not([:Column2]));"
   ]
  },
  {
   "cell_type": "code",
   "execution_count": null,
   "metadata": {},
   "outputs": [],
   "source": []
  },
  {
   "cell_type": "code",
   "execution_count": null,
   "metadata": {},
   "outputs": [],
   "source": [
    "aa"
   ]
  },
  {
   "cell_type": "code",
   "execution_count": null,
   "metadata": {},
   "outputs": [],
   "source": []
  },
  {
   "cell_type": "code",
   "execution_count": null,
   "metadata": {},
   "outputs": [],
   "source": [
    "CSV.write(\".\\\\\" * splitext(last(splitdir(infil)))[1] * \"_monthly_averages.CSV\",monthly_averages_df)"
   ]
  },
  {
   "cell_type": "code",
   "execution_count": null,
   "metadata": {},
   "outputs": [],
   "source": [
    "trunc(Int,Month(start_date) |> Dates.value)"
   ]
  },
  {
   "cell_type": "code",
   "execution_count": null,
   "metadata": {},
   "outputs": [],
   "source": [
    "using Dates\n",
    "\n",
    "print(Dates.monthname(2))"
   ]
  },
  {
   "cell_type": "code",
   "execution_count": null,
   "metadata": {},
   "outputs": [],
   "source": [
    "msq_df"
   ]
  },
  {
   "cell_type": "code",
   "execution_count": null,
   "metadata": {},
   "outputs": [],
   "source": []
  }
 ],
 "metadata": {
  "kernelspec": {
   "display_name": "Julia 1.9.1",
   "language": "julia",
   "name": "julia-1.9"
  },
  "language_info": {
   "file_extension": ".jl",
   "mimetype": "application/julia",
   "name": "julia",
   "version": "1.9.1"
  }
 },
 "nbformat": 4,
 "nbformat_minor": 4
}
