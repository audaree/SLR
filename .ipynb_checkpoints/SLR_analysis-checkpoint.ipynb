{
 "cells": [
  {
   "cell_type": "code",
   "execution_count": null,
   "metadata": {},
   "outputs": [],
   "source": [
    "using CSV\n",
    "using XLSX\n",
    "using Dates, DataFrames, DSP\n",
    "using LaTeXStrings\n",
    "using NativeFileDialog\n",
    "using Plots, Printf\n",
    "using Statistics\n",
    "using Tk\n",
    "\n",
    "# Widen screen for better viewing\n",
    "display(\"text/html\", \"<style>.container { width:100% !important; }</style>\")\n",
    "\n",
    "excel_directory = \".\\\\\" \n",
    "excel_file = excel_directory*\"/Hi_Lo_Mean.xlsx\"\n",
    "\n",
    "work_sheets = XLSX.sheetnames(XLSX.readxlsx(excel_file))\n",
    "df1 = DataFrame(XLSX.readtable(excel_file,1,))\n",
    "col_names = names(df1);\n",
    "df1.DateTime = Date.(df1.Date)\n",
    "df1.Low = Float64.(df1.Low)\n",
    "df1.Mean = Float64.(df1.Mean)\n",
    "df1.High = Float64.(df1.High)\n",
    "df1.Range = Float64.(df1.Range)\n",
    "\n"
   ]
  },
  {
   "cell_type": "code",
   "execution_count": null,
   "metadata": {},
   "outputs": [],
   "source": [
    "# Widen screen for better viewing\n",
    "display(\"text/html\", \"<style>.container { width:100% !important; }</style>\")\n",
    "\n",
    "df1 = DataFrame(XLSX.readtable(excel_file,1,))\n",
    "df1.Date = DateTime.(df1.Date)\n",
    "\n",
    "cc = combine(groupby(transform(df1, :Date => x->year.(x)),:Date_function), :Low => minimum, :Mean => mean, :High => maximum, :Range => length)\n",
    "date_vals = [getindex.(cc.Date_function,i) for i in eachindex(cc.Date_function[1])]\n",
    "annual_dates = Date.(date_vals[1])\n",
    "\n",
    "#X = Dates.datetime2julian.(df1.Date)\n",
    "#Y = df1.Mean"
   ]
  },
  {
   "cell_type": "code",
   "execution_count": null,
   "metadata": {},
   "outputs": [],
   "source": [
    "using CurveFit\n",
    "\n",
    "p1 = scatter(X,Y,smooth=:true,label=\"\", size = (1600, 400))\n",
    "\n",
    "using GLM\n",
    "\n",
    "df = DataFrame(X = cc.Date_function)\n",
    "df.Y = cc.Mean_mean\n",
    "\n",
    "model = lm(@formula(Y ~ 1 + X), df)\n",
    "plot!(df.X, predict(model, df), label=\"model\")\n",
    "\n",
    "aa = []\n",
    "for i in df.X\n",
    "    push!(aa,i*coef(model)[2]+coef(model)[1])\n",
    "end \n",
    "\n",
    "scatter!(df.X,aa,marker=:diamond, mc=:yellow, ms=:4,label=\"Annual trend = \"*string(@sprintf(\"%0.1f\",coef(model)[2]*1000))*\"mm/Yr.\")"
   ]
  },
  {
   "cell_type": "code",
   "execution_count": null,
   "metadata": {},
   "outputs": [],
   "source": [
    "string(@sprintf(\"%0.3f\",coef(model)[2]))"
   ]
  },
  {
   "cell_type": "code",
   "execution_count": null,
   "metadata": {},
   "outputs": [],
   "source": []
  }
 ],
 "metadata": {
  "kernelspec": {
   "display_name": "Julia 1.10.4",
   "language": "julia",
   "name": "julia-1.10"
  },
  "language_info": {
   "file_extension": ".jl",
   "mimetype": "application/julia",
   "name": "julia",
   "version": "1.10.4"
  }
 },
 "nbformat": 4,
 "nbformat_minor": 4
}
